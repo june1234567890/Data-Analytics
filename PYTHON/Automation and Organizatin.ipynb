{
 "cells": [
  {
   "cell_type": "markdown",
   "id": "a0322c92",
   "metadata": {},
   "source": [
    "## What Are Functions?\n",
    "Think of a function like a recipe or a tool. Once you write the recipe, you can use it over and over without\n",
    "rewriting all the steps."
   ]
  },
  {
   "cell_type": "markdown",
   "id": "7892f1c6",
   "metadata": {},
   "source": []
  },
  {
   "cell_type": "code",
   "execution_count": 1,
   "id": "5b843eaa",
   "metadata": {},
   "outputs": [],
   "source": [
    "# with functions\n",
    "\n",
    "def store_greeting (name):\n",
    "    print(f\"hello{name}.welcome to our store\")\n",
    "    print(\"thank you for shopping with us\")\n",
    "    print(\"have a great day\")"
   ]
  },
  {
   "cell_type": "code",
   "execution_count": 2,
   "id": "8b51f6a9",
   "metadata": {},
   "outputs": [
    {
     "name": "stdout",
     "output_type": "stream",
     "text": [
      "hellojune.welcome to our store\n",
      "thank you for shopping with us\n",
      "have a great day\n"
     ]
    }
   ],
   "source": [
    "# customer 1\n",
    "store_greeting(\"june\")"
   ]
  },
  {
   "cell_type": "code",
   "execution_count": 3,
   "id": "3ae0d452",
   "metadata": {},
   "outputs": [
    {
     "name": "stdout",
     "output_type": "stream",
     "text": [
      "hellomary.welcome to our store\n",
      "thank you for shopping with us\n",
      "have a great day\n"
     ]
    }
   ],
   "source": [
    "# customer 2\n",
    "store_greeting(\"mary\")"
   ]
  },
  {
   "cell_type": "code",
   "execution_count": 4,
   "id": "8505b1e0",
   "metadata": {},
   "outputs": [],
   "source": [
    "def add(number1,number2):\n",
    "    result=number1 +number2\n",
    "    print(f\"{number1} + {number2} ={result}\")"
   ]
  },
  {
   "cell_type": "code",
   "execution_count": 5,
   "id": "6413f0bc",
   "metadata": {},
   "outputs": [
    {
     "name": "stdout",
     "output_type": "stream",
     "text": [
      "29 + 45 =74\n"
     ]
    }
   ],
   "source": [
    "add(29,45)"
   ]
  },
  {
   "cell_type": "code",
   "execution_count": null,
   "id": "65e40f3c",
   "metadata": {},
   "outputs": [],
   "source": [
    "def add(number1,number2):\n",
    "    result=number1*number2\n",
    "    print(f\"number1\")"
   ]
  },
  {
   "cell_type": "code",
   "execution_count": null,
   "id": "6672c701",
   "metadata": {},
   "outputs": [],
   "source": [
    "# function to analze grade\n",
    "\n",
    "def analyze_grade(score):\n",
    "    if score >=90:\n",
    "        grade=\"A\"\n",
    "        feedback=\"excellent work\"\n",
    "        \n",
    "    elif score >=80:\n",
    "        grade=\"B\"\n",
    "        feedback= \"good work\"\n",
    "        \n",
    "    elif score >=70:\n",
    "        grade= \"C\"\n",
    "        feedback= \"satifactory\"\n",
    "        \n",
    "        \n",
    "    elif score >=60:\n",
    "        grade=\"D\"\n",
    "        feedback= \"needs impovement\"\n",
    "        \n",
    "    else:\n",
    "        grade=\"F\"\n",
    "        feedback= \"see the teacher\"\n",
    "    return grade, feedback\n",
    "        "
   ]
  },
  {
   "cell_type": "code",
   "execution_count": null,
   "id": "74ea73f5",
   "metadata": {},
   "outputs": [],
   "source": [
    "grade, feedback= analyze_grade(76)\n",
    "print(f\"grade: {grade} \\nI feedback:{feedback}\")"
   ]
  },
  {
   "cell_type": "markdown",
   "id": "bb96fc8b",
   "metadata": {},
   "source": [
    "### Errors Handing"
   ]
  },
  {
   "cell_type": "code",
   "execution_count": 10,
   "id": "e3ab49b5",
   "metadata": {},
   "outputs": [
    {
     "ename": "ZeroDivisionError",
     "evalue": "division by zero",
     "output_type": "error",
     "traceback": [
      "\u001b[31m---------------------------------------------------------------------------\u001b[39m",
      "\u001b[31mZeroDivisionError\u001b[39m                         Traceback (most recent call last)",
      "\u001b[36mCell\u001b[39m\u001b[36m \u001b[39m\u001b[32mIn[10]\u001b[39m\u001b[32m, line 1\u001b[39m\n\u001b[32m----> \u001b[39m\u001b[32m1\u001b[39m result= \u001b[32;43m10\u001b[39;49m\u001b[43m/\u001b[49m\u001b[32;43m0\u001b[39;49m\n\u001b[32m      3\u001b[39m \u001b[38;5;28mprint\u001b[39m(result)\n",
      "\u001b[31mZeroDivisionError\u001b[39m: division by zero"
     ]
    }
   ],
   "source": [
    "result= 10/0\n",
    "\n",
    "print(result)"
   ]
  },
  {
   "cell_type": "markdown",
   "id": "7f46768c",
   "metadata": {},
   "source": [
    "### handing error using try/except"
   ]
  },
  {
   "cell_type": "code",
   "execution_count": 13,
   "id": "164b84c8",
   "metadata": {},
   "outputs": [
    {
     "name": "stdout",
     "output_type": "stream",
     "text": [
      "can't  divide by zero\n"
     ]
    }
   ],
   "source": [
    "try:\n",
    "     result=10/0\n",
    "     print(result)\n",
    "except ZeroDivisionError:\n",
    "     print(\"can't  divide by zero\")"
   ]
  },
  {
   "cell_type": "code",
   "execution_count": null,
   "id": "1d611bd5",
   "metadata": {},
   "outputs": [],
   "source": [
    "def safe_division():\n",
    "    try:\n",
    "        num1=float(input(\"enter first num:\"))\n",
    "        num2=float(input(\"enter second num:\"))\n",
    "        \n",
    "        result= num1/num2\n",
    "        print(f\"{num1}/{num2} ={result}\")\n",
    "        \n",
    "    except ZeroDivisionError:\n",
    "        print()"
   ]
  },
  {
   "cell_type": "code",
   "execution_count": 15,
   "id": "c825b58f",
   "metadata": {},
   "outputs": [],
   "source": [
    "# real world exmple\n",
    "\n",
    "def get_student_grade():\n",
    "    while True:\n",
    "        try:\n",
    "            name=input(\"student name\")\n",
    "            \n",
    "            if name.strip()==\"\":\n",
    "                print(\"enter a valid name\")\n",
    "                continue\n",
    "            \n",
    "            score= int(input(\"student marks(0-100): \"))\n",
    "            \n",
    "            if score < 0 or score >100:\n",
    "                print(\"enter scores between 0-100\")\n",
    "                continue\n",
    "            \n",
    "            return name, score\n",
    "        \n",
    "        except ValueError:\n",
    "            print(\"enter valid numbers\")\n",
    "            \n",
    "        except KeyboardInterrupt:\n",
    "            print(\"program interrupt by the user\")\n",
    "            return None, None\n",
    "        \n",
    "        except Exception as e:\n",
    "            print(e)"
   ]
  },
  {
   "cell_type": "code",
   "execution_count": null,
   "id": "1ff2f268",
   "metadata": {},
   "outputs": [],
   "source": []
  }
 ],
 "metadata": {
  "kernelspec": {
   "display_name": ".venv",
   "language": "python",
   "name": "python3"
  },
  "language_info": {
   "codemirror_mode": {
    "name": "ipython",
    "version": 3
   },
   "file_extension": ".py",
   "mimetype": "text/x-python",
   "name": "python",
   "nbconvert_exporter": "python",
   "pygments_lexer": "ipython3",
   "version": "3.13.5"
  }
 },
 "nbformat": 4,
 "nbformat_minor": 5
}
