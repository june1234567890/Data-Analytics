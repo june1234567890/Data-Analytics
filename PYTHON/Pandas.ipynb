{
 "cells": [
  {
   "cell_type": "markdown",
   "id": "2c1808f6",
   "metadata": {},
   "source": [
    "## Getting started with Python for Data Analysis"
   ]
  },
  {
   "cell_type": "code",
   "execution_count": 4,
   "id": "a1c3676e",
   "metadata": {},
   "outputs": [
    {
     "name": "stdout",
     "output_type": "stream",
     "text": [
      "🚀 Setting up our data analysis environment...\n",
      "✅ All libraries imported successfully!\n"
     ]
    }
   ],
   "source": [
    "\n",
    "# === STEP 1: Import all necessary libraries ===\n",
    "print(\"🚀 Setting up our data analysis environment...\")\n",
    "import pandas as pd\n",
    "import numpy as np\n",
    "import matplotlib.pyplot as plt\n",
    "import seaborn as sns\n",
    "print(\"✅ All libraries imported successfully!\")"
   ]
  },
  {
   "cell_type": "code",
   "execution_count": 5,
   "id": "d5635c62",
   "metadata": {},
   "outputs": [
    {
     "name": "stdout",
     "output_type": "stream",
     "text": [
      "📊 Pandas version: 2.3.0\n",
      "🔢 Numpy version: 2.3.1\n",
      "🎨 Matplotlib and Seaborn are ready for visualization!\n"
     ]
    }
   ],
   "source": [
    "# === STEP 2: Test that everything works ===\n",
    "print(f\"📊 Pandas version: {pd.__version__}\")\n",
    "print(f\"🔢 Numpy version: {np.__version__}\")\n",
    "print(\"🎨 Matplotlib and Seaborn are ready for visualization!\")"
   ]
  },
  {
   "cell_type": "code",
   "execution_count": 6,
   "id": "46d4daf5",
   "metadata": {},
   "outputs": [
    {
     "name": "stdout",
     "output_type": "stream",
     "text": [
      "\n",
      "📋 Sample supermarket data:\n",
      "   Product  Sales  Profit\n",
      "0   Apples    150      45\n",
      "1  Bananas    200      80\n",
      "2  Oranges    120      36\n",
      "3    Bread    300      90\n",
      "4     Milk    250      75\n",
      "\n",
      "🎉 Everything is working! You're ready to analyze data!\n"
     ]
    }
   ],
   "source": [
    "# === STEP 3: Create a simple example ===\n",
    "# Let's create some sample data to prove everything works\n",
    "sample_data = {\n",
    "'Product': ['Apples', 'Bananas', 'Oranges', 'Bread', 'Milk'],\n",
    "'Sales': [150, 200, 120, 300, 250],\n",
    "'Profit': [45, 80, 36, 90, 75]\n",
    "}\n",
    "# Convert to a pandas DataFrame (think of it as a smart table)\n",
    "df = pd.DataFrame(sample_data)\n",
    "print(\"\\n📋 Sample supermarket data:\")\n",
    "print(df)\n",
    "print(\"\\n🎉 Everything is working! You're ready to analyze data!\")"
   ]
  },
  {
   "cell_type": "code",
   "execution_count": 9,
   "id": "82918829",
   "metadata": {},
   "outputs": [
    {
     "name": "stdout",
     "output_type": "stream",
     "text": [
      "\n",
      " sample_data:\n",
      "        name  age  book_authored\n",
      "0  john wick   35              3\n",
      "1       mary   45             10\n",
      "2       deng   24              2\n",
      "3      achan   19             14\n",
      "4        bol   18              8\n"
     ]
    }
   ],
   "source": [
    "sample_data={\n",
    "    'name':['john wick','mary', 'deng', 'achan', 'bol'],\n",
    "    'age':[35,45,24,19,18],\n",
    "    'book_authored':[3,10,2,14,8]\n",
    "}\n",
    "df=pd.DataFrame(sample_data)\n",
    "print(\"\\n sample_data:\")\n",
    "print(df)\n",
    "\n"
   ]
  },
  {
   "cell_type": "code",
   "execution_count": 10,
   "id": "2ca3bc34",
   "metadata": {},
   "outputs": [
    {
     "data": {
      "text/html": [
       "<div>\n",
       "<style scoped>\n",
       "    .dataframe tbody tr th:only-of-type {\n",
       "        vertical-align: middle;\n",
       "    }\n",
       "\n",
       "    .dataframe tbody tr th {\n",
       "        vertical-align: top;\n",
       "    }\n",
       "\n",
       "    .dataframe thead th {\n",
       "        text-align: right;\n",
       "    }\n",
       "</style>\n",
       "<table border=\"1\" class=\"dataframe\">\n",
       "  <thead>\n",
       "    <tr style=\"text-align: right;\">\n",
       "      <th></th>\n",
       "      <th>name</th>\n",
       "      <th>age</th>\n",
       "      <th>book_authored</th>\n",
       "    </tr>\n",
       "  </thead>\n",
       "  <tbody>\n",
       "    <tr>\n",
       "      <th>0</th>\n",
       "      <td>john wick</td>\n",
       "      <td>35</td>\n",
       "      <td>3</td>\n",
       "    </tr>\n",
       "    <tr>\n",
       "      <th>1</th>\n",
       "      <td>mary</td>\n",
       "      <td>45</td>\n",
       "      <td>10</td>\n",
       "    </tr>\n",
       "    <tr>\n",
       "      <th>2</th>\n",
       "      <td>deng</td>\n",
       "      <td>24</td>\n",
       "      <td>2</td>\n",
       "    </tr>\n",
       "  </tbody>\n",
       "</table>\n",
       "</div>"
      ],
      "text/plain": [
       "        name  age  book_authored\n",
       "0  john wick   35              3\n",
       "1       mary   45             10\n",
       "2       deng   24              2"
      ]
     },
     "execution_count": 10,
     "metadata": {},
     "output_type": "execute_result"
    }
   ],
   "source": [
    "df.head(3)"
   ]
  },
  {
   "cell_type": "code",
   "execution_count": 11,
   "id": "c5c54a0f",
   "metadata": {},
   "outputs": [
    {
     "data": {
      "text/html": [
       "<div>\n",
       "<style scoped>\n",
       "    .dataframe tbody tr th:only-of-type {\n",
       "        vertical-align: middle;\n",
       "    }\n",
       "\n",
       "    .dataframe tbody tr th {\n",
       "        vertical-align: top;\n",
       "    }\n",
       "\n",
       "    .dataframe thead th {\n",
       "        text-align: right;\n",
       "    }\n",
       "</style>\n",
       "<table border=\"1\" class=\"dataframe\">\n",
       "  <thead>\n",
       "    <tr style=\"text-align: right;\">\n",
       "      <th></th>\n",
       "      <th>name</th>\n",
       "      <th>age</th>\n",
       "      <th>book_authored</th>\n",
       "    </tr>\n",
       "  </thead>\n",
       "  <tbody>\n",
       "    <tr>\n",
       "      <th>2</th>\n",
       "      <td>deng</td>\n",
       "      <td>24</td>\n",
       "      <td>2</td>\n",
       "    </tr>\n",
       "    <tr>\n",
       "      <th>3</th>\n",
       "      <td>achan</td>\n",
       "      <td>19</td>\n",
       "      <td>14</td>\n",
       "    </tr>\n",
       "    <tr>\n",
       "      <th>4</th>\n",
       "      <td>bol</td>\n",
       "      <td>18</td>\n",
       "      <td>8</td>\n",
       "    </tr>\n",
       "  </tbody>\n",
       "</table>\n",
       "</div>"
      ],
      "text/plain": [
       "    name  age  book_authored\n",
       "2   deng   24              2\n",
       "3  achan   19             14\n",
       "4    bol   18              8"
      ]
     },
     "execution_count": 11,
     "metadata": {},
     "output_type": "execute_result"
    }
   ],
   "source": [
    "df.tail(3)"
   ]
  },
  {
   "cell_type": "markdown",
   "id": "8862ab7b",
   "metadata": {},
   "source": [
    "# 📌 Interactive Tasks\n",
    "# Task 1: Import Practice\n",
    "Try importing the libraries yourself. Copy this code and fill in the missing parts"
   ]
  },
  {
   "cell_type": "code",
   "execution_count": 7,
   "id": "e173f240",
   "metadata": {},
   "outputs": [
    {
     "name": "stdout",
     "output_type": "stream",
     "text": [
      "success!! all libraries imported correctly!\n"
     ]
    }
   ],
   "source": [
    "# Import pandas with alias ___\n",
    "import pandas as pd\n",
    "\n",
    "# Import numpy with alias ___\n",
    "import numpy as nsn\n",
    "\n",
    "# Import matplotlib.pyplot with alias ___\n",
    "import matplotlib.pyplot as plt\n",
    "\n",
    "# Import seaborn with alias ___\n",
    "import seaborn as nsn\n",
    "\n",
    "# Test your imports\n",
    "print(\"success!! all libraries imported correctly!\")\n",
    "\n"
   ]
  },
  {
   "cell_type": "markdown",
   "id": "305cc16d",
   "metadata": {},
   "source": [
    "# Task 2: Library Explanation\n",
    "In your own words, explain what each library does:\n",
    "\n",
    "1. pandas is like... (Example: pandas is like a super-smart spreadsheet program)\n",
    "\n",
    "2. numpy is like... (short form for 'Numerical Python')is a powerful open-source Python library used primarily for numerical computing.\n",
    "\n",
    "3. matplotlib is like...Matplotlib is a personal graphic designer who can turn boring numbers into beautiful charts and graphs.\n",
    "\n",
    "4. seaborn is like... Seaborn is that artist's trendy assistant who makes\n",
    "everything look magazine-ready."
   ]
  },
  {
   "cell_type": "code",
   "execution_count": null,
   "id": "8d510b57",
   "metadata": {},
   "outputs": [],
   "source": []
  }
 ],
 "metadata": {
  "kernelspec": {
   "display_name": ".venv",
   "language": "python",
   "name": "python3"
  },
  "language_info": {
   "codemirror_mode": {
    "name": "ipython",
    "version": 3
   },
   "file_extension": ".py",
   "mimetype": "text/x-python",
   "name": "python",
   "nbconvert_exporter": "python",
   "pygments_lexer": "ipython3",
   "version": "3.13.5"
  }
 },
 "nbformat": 4,
 "nbformat_minor": 5
}
