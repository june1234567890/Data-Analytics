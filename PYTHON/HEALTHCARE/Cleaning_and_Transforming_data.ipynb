{
 "cells": [
  {
   "cell_type": "markdown",
   "id": "bf1c09a6",
   "metadata": {},
   "source": [
    "# Healthcare Utilization and Medicine Availability in Kakuma Refugee Camp"
   ]
  },
  {
   "cell_type": "markdown",
   "id": "dcc65b48",
   "metadata": {},
   "source": [
    "### Cleaning and Transforming Data"
   ]
  },
  {
   "cell_type": "code",
   "execution_count": 1,
   "id": "3ed76f5f",
   "metadata": {},
   "outputs": [],
   "source": [
    "#importing data\n",
    "import pandas as pd\n",
    "import numpy as np\n",
    "import re"
   ]
  },
  {
   "cell_type": "code",
   "execution_count": 2,
   "id": "f446dd2e",
   "metadata": {},
   "outputs": [
    {
     "data": {
      "text/html": [
       "<div>\n",
       "<style scoped>\n",
       "    .dataframe tbody tr th:only-of-type {\n",
       "        vertical-align: middle;\n",
       "    }\n",
       "\n",
       "    .dataframe tbody tr th {\n",
       "        vertical-align: top;\n",
       "    }\n",
       "\n",
       "    .dataframe thead th {\n",
       "        text-align: right;\n",
       "    }\n",
       "</style>\n",
       "<table border=\"1\" class=\"dataframe\">\n",
       "  <thead>\n",
       "    <tr style=\"text-align: right;\">\n",
       "      <th></th>\n",
       "      <th>Visit_ID</th>\n",
       "      <th>Gender</th>\n",
       "      <th>Age</th>\n",
       "      <th>Zone</th>\n",
       "      <th>Clinic</th>\n",
       "      <th>Visit_Reason</th>\n",
       "      <th>Visit_Date</th>\n",
       "      <th>Medicine_Availability</th>\n",
       "    </tr>\n",
       "  </thead>\n",
       "  <tbody>\n",
       "    <tr>\n",
       "      <th>0</th>\n",
       "      <td>VS0001</td>\n",
       "      <td>Male</td>\n",
       "      <td>63.0</td>\n",
       "      <td>NaN</td>\n",
       "      <td>Kakuma Health Center</td>\n",
       "      <td>Respiratory Infection</td>\n",
       "      <td>2025-06-27</td>\n",
       "      <td>Shortage</td>\n",
       "    </tr>\n",
       "    <tr>\n",
       "      <th>1</th>\n",
       "      <td>VS0002</td>\n",
       "      <td>Female</td>\n",
       "      <td>17.0</td>\n",
       "      <td>Kakuma 3</td>\n",
       "      <td>Kalobeyei Clinic</td>\n",
       "      <td>Respiratory Infection</td>\n",
       "      <td>2025-06-04</td>\n",
       "      <td>Shortage</td>\n",
       "    </tr>\n",
       "    <tr>\n",
       "      <th>2</th>\n",
       "      <td>VS0003</td>\n",
       "      <td>Male</td>\n",
       "      <td>33.0</td>\n",
       "      <td>NaN</td>\n",
       "      <td>Kalobeyei Clinic</td>\n",
       "      <td>Cough</td>\n",
       "      <td>2025-06-07</td>\n",
       "      <td>Available</td>\n",
       "    </tr>\n",
       "    <tr>\n",
       "      <th>3</th>\n",
       "      <td>VS0004</td>\n",
       "      <td>Male</td>\n",
       "      <td>29.0</td>\n",
       "      <td>NaN</td>\n",
       "      <td>Kalobeyei Clinic</td>\n",
       "      <td>Skin Infection</td>\n",
       "      <td>2025-06-22</td>\n",
       "      <td>Available</td>\n",
       "    </tr>\n",
       "    <tr>\n",
       "      <th>4</th>\n",
       "      <td>VS0005</td>\n",
       "      <td>Male</td>\n",
       "      <td>13.0</td>\n",
       "      <td>NaN</td>\n",
       "      <td>UNHCR Mobile Unit</td>\n",
       "      <td>Check-up</td>\n",
       "      <td>2025-06-10</td>\n",
       "      <td>Available</td>\n",
       "    </tr>\n",
       "    <tr>\n",
       "      <th>5</th>\n",
       "      <td>VS0006</td>\n",
       "      <td>NaN</td>\n",
       "      <td>46.0</td>\n",
       "      <td>Kakuma 2</td>\n",
       "      <td>Kalobeyei Clinic</td>\n",
       "      <td>Check-up</td>\n",
       "      <td>NaN</td>\n",
       "      <td>Out of Stock</td>\n",
       "    </tr>\n",
       "    <tr>\n",
       "      <th>6</th>\n",
       "      <td>VS0007</td>\n",
       "      <td>Male</td>\n",
       "      <td>35.0</td>\n",
       "      <td>Kakuma 1</td>\n",
       "      <td>Kakuma Health Center</td>\n",
       "      <td>Maternity</td>\n",
       "      <td>2025-06-21</td>\n",
       "      <td>Shortage</td>\n",
       "    </tr>\n",
       "    <tr>\n",
       "      <th>7</th>\n",
       "      <td>VS0008</td>\n",
       "      <td>Male</td>\n",
       "      <td>6.0</td>\n",
       "      <td>Kalobeyei</td>\n",
       "      <td>UNHCR Mobile Unit</td>\n",
       "      <td>Wound</td>\n",
       "      <td>2025-06-15</td>\n",
       "      <td>Out of Stock</td>\n",
       "    </tr>\n",
       "    <tr>\n",
       "      <th>8</th>\n",
       "      <td>VS0009</td>\n",
       "      <td>Male</td>\n",
       "      <td>69.0</td>\n",
       "      <td>Kakuma 4</td>\n",
       "      <td>Kalobeyei Clinic</td>\n",
       "      <td>Respiratory Infection</td>\n",
       "      <td>2025-06-15</td>\n",
       "      <td>NaN</td>\n",
       "    </tr>\n",
       "    <tr>\n",
       "      <th>9</th>\n",
       "      <td>VS0010</td>\n",
       "      <td>Female</td>\n",
       "      <td>47.0</td>\n",
       "      <td>Kakuma 2</td>\n",
       "      <td>UNHCR Mobile Unit</td>\n",
       "      <td>Cough</td>\n",
       "      <td>2025-06-04</td>\n",
       "      <td>Available</td>\n",
       "    </tr>\n",
       "  </tbody>\n",
       "</table>\n",
       "</div>"
      ],
      "text/plain": [
       "  Visit_ID  Gender   Age       Zone                Clinic  \\\n",
       "0   VS0001    Male  63.0        NaN  Kakuma Health Center   \n",
       "1   VS0002  Female  17.0   Kakuma 3      Kalobeyei Clinic   \n",
       "2   VS0003    Male  33.0        NaN      Kalobeyei Clinic   \n",
       "3   VS0004    Male  29.0        NaN      Kalobeyei Clinic   \n",
       "4   VS0005    Male  13.0        NaN     UNHCR Mobile Unit   \n",
       "5   VS0006     NaN  46.0   Kakuma 2      Kalobeyei Clinic   \n",
       "6   VS0007    Male  35.0   Kakuma 1  Kakuma Health Center   \n",
       "7   VS0008    Male   6.0  Kalobeyei     UNHCR Mobile Unit   \n",
       "8   VS0009    Male  69.0   Kakuma 4      Kalobeyei Clinic   \n",
       "9   VS0010  Female  47.0   Kakuma 2     UNHCR Mobile Unit   \n",
       "\n",
       "            Visit_Reason  Visit_Date Medicine_Availability  \n",
       "0  Respiratory Infection  2025-06-27              Shortage  \n",
       "1  Respiratory Infection  2025-06-04              Shortage  \n",
       "2                  Cough  2025-06-07             Available  \n",
       "3         Skin Infection  2025-06-22             Available  \n",
       "4               Check-up  2025-06-10             Available  \n",
       "5               Check-up         NaN          Out of Stock  \n",
       "6              Maternity  2025-06-21              Shortage  \n",
       "7                  Wound  2025-06-15          Out of Stock  \n",
       "8  Respiratory Infection  2025-06-15                   NaN  \n",
       "9                  Cough  2025-06-04             Available  "
      ]
     },
     "execution_count": 2,
     "metadata": {},
     "output_type": "execute_result"
    }
   ],
   "source": [
    "# Load the dataset\n",
    "df = pd.read_csv('datasets/kakuma_healthcare_visits.csv')\n",
    "\n",
    "df.head(10)"
   ]
  },
  {
   "cell_type": "code",
   "execution_count": 3,
   "id": "5ef56f21",
   "metadata": {},
   "outputs": [],
   "source": [
    "def clean_healthcare_data(df):\n",
    "    \"\"\"\n",
    "    Comprehensive data cleaning for healthcare dataset\n",
    "    \"\"\""
   ]
  },
  {
   "cell_type": "code",
   "execution_count": 4,
   "id": "6e7636c6",
   "metadata": {},
   "outputs": [],
   "source": [
    "df_clean = df.copy()"
   ]
  },
  {
   "cell_type": "code",
   "execution_count": 5,
   "id": "b8182842",
   "metadata": {},
   "outputs": [
    {
     "name": "stdout",
     "output_type": "stream",
     "text": [
      "Starting data cleaning process...\n",
      "Initial data shape: (1000, 8)\n"
     ]
    }
   ],
   "source": [
    "print(\"Starting data cleaning process...\")\n",
    "print(f\"Initial data shape: {df.shape}\")\n"
   ]
  },
  {
   "cell_type": "code",
   "execution_count": 6,
   "id": "00a0bcf7",
   "metadata": {},
   "outputs": [
    {
     "name": "stdout",
     "output_type": "stream",
     "text": [
      "\n",
      " Dataset Preview:\n"
     ]
    },
    {
     "data": {
      "text/html": [
       "<div>\n",
       "<style scoped>\n",
       "    .dataframe tbody tr th:only-of-type {\n",
       "        vertical-align: middle;\n",
       "    }\n",
       "\n",
       "    .dataframe tbody tr th {\n",
       "        vertical-align: top;\n",
       "    }\n",
       "\n",
       "    .dataframe thead th {\n",
       "        text-align: right;\n",
       "    }\n",
       "</style>\n",
       "<table border=\"1\" class=\"dataframe\">\n",
       "  <thead>\n",
       "    <tr style=\"text-align: right;\">\n",
       "      <th></th>\n",
       "      <th>Visit_ID</th>\n",
       "      <th>Gender</th>\n",
       "      <th>Age</th>\n",
       "      <th>Zone</th>\n",
       "      <th>Clinic</th>\n",
       "      <th>Visit_Reason</th>\n",
       "      <th>Visit_Date</th>\n",
       "      <th>Medicine_Availability</th>\n",
       "    </tr>\n",
       "  </thead>\n",
       "  <tbody>\n",
       "    <tr>\n",
       "      <th>0</th>\n",
       "      <td>VS0001</td>\n",
       "      <td>Male</td>\n",
       "      <td>63.0</td>\n",
       "      <td>NaN</td>\n",
       "      <td>Kakuma Health Center</td>\n",
       "      <td>Respiratory Infection</td>\n",
       "      <td>2025-06-27</td>\n",
       "      <td>Shortage</td>\n",
       "    </tr>\n",
       "    <tr>\n",
       "      <th>1</th>\n",
       "      <td>VS0002</td>\n",
       "      <td>Female</td>\n",
       "      <td>17.0</td>\n",
       "      <td>Kakuma 3</td>\n",
       "      <td>Kalobeyei Clinic</td>\n",
       "      <td>Respiratory Infection</td>\n",
       "      <td>2025-06-04</td>\n",
       "      <td>Shortage</td>\n",
       "    </tr>\n",
       "    <tr>\n",
       "      <th>2</th>\n",
       "      <td>VS0003</td>\n",
       "      <td>Male</td>\n",
       "      <td>33.0</td>\n",
       "      <td>NaN</td>\n",
       "      <td>Kalobeyei Clinic</td>\n",
       "      <td>Cough</td>\n",
       "      <td>2025-06-07</td>\n",
       "      <td>Available</td>\n",
       "    </tr>\n",
       "    <tr>\n",
       "      <th>3</th>\n",
       "      <td>VS0004</td>\n",
       "      <td>Male</td>\n",
       "      <td>29.0</td>\n",
       "      <td>NaN</td>\n",
       "      <td>Kalobeyei Clinic</td>\n",
       "      <td>Skin Infection</td>\n",
       "      <td>2025-06-22</td>\n",
       "      <td>Available</td>\n",
       "    </tr>\n",
       "    <tr>\n",
       "      <th>4</th>\n",
       "      <td>VS0005</td>\n",
       "      <td>Male</td>\n",
       "      <td>13.0</td>\n",
       "      <td>NaN</td>\n",
       "      <td>UNHCR Mobile Unit</td>\n",
       "      <td>Check-up</td>\n",
       "      <td>2025-06-10</td>\n",
       "      <td>Available</td>\n",
       "    </tr>\n",
       "  </tbody>\n",
       "</table>\n",
       "</div>"
      ],
      "text/plain": [
       "  Visit_ID  Gender   Age      Zone                Clinic  \\\n",
       "0   VS0001    Male  63.0       NaN  Kakuma Health Center   \n",
       "1   VS0002  Female  17.0  Kakuma 3      Kalobeyei Clinic   \n",
       "2   VS0003    Male  33.0       NaN      Kalobeyei Clinic   \n",
       "3   VS0004    Male  29.0       NaN      Kalobeyei Clinic   \n",
       "4   VS0005    Male  13.0       NaN     UNHCR Mobile Unit   \n",
       "\n",
       "            Visit_Reason  Visit_Date Medicine_Availability  \n",
       "0  Respiratory Infection  2025-06-27              Shortage  \n",
       "1  Respiratory Infection  2025-06-04              Shortage  \n",
       "2                  Cough  2025-06-07             Available  \n",
       "3         Skin Infection  2025-06-22             Available  \n",
       "4               Check-up  2025-06-10             Available  "
      ]
     },
     "execution_count": 6,
     "metadata": {},
     "output_type": "execute_result"
    }
   ],
   "source": [
    "# Preview the dataset\n",
    "\n",
    "print(\"\\n Dataset Preview:\")\n",
    "df.head()"
   ]
  },
  {
   "cell_type": "markdown",
   "id": "e9538cd4",
   "metadata": {},
   "source": [
    "# 1. Data Cleaning"
   ]
  },
  {
   "cell_type": "markdown",
   "id": "95e773e0",
   "metadata": {},
   "source": [
    "###### a) Check for missing values"
   ]
  },
  {
   "cell_type": "code",
   "execution_count": 7,
   "id": "a46ac944",
   "metadata": {},
   "outputs": [
    {
     "name": "stdout",
     "output_type": "stream",
     "text": [
      "\n",
      " Missing Values:\n"
     ]
    },
    {
     "data": {
      "text/plain": [
       "Visit_ID                   0\n",
       "Gender                   100\n",
       "Age                      100\n",
       "Zone                     100\n",
       "Clinic                   100\n",
       "Visit_Reason             100\n",
       "Visit_Date               100\n",
       "Medicine_Availability    100\n",
       "dtype: int64"
      ]
     },
     "execution_count": 7,
     "metadata": {},
     "output_type": "execute_result"
    }
   ],
   "source": [
    "# a) Check for missing values\n",
    "\n",
    "print(\"\\n Missing Values:\")\n",
    "df.isnull().sum()"
   ]
  },
  {
   "cell_type": "markdown",
   "id": "8782febd",
   "metadata": {},
   "source": [
    "###### b) Handle missing data"
   ]
  },
  {
   "cell_type": "code",
   "execution_count": 8,
   "id": "997a4e25",
   "metadata": {},
   "outputs": [
    {
     "data": {
      "text/html": [
       "<div>\n",
       "<style scoped>\n",
       "    .dataframe tbody tr th:only-of-type {\n",
       "        vertical-align: middle;\n",
       "    }\n",
       "\n",
       "    .dataframe tbody tr th {\n",
       "        vertical-align: top;\n",
       "    }\n",
       "\n",
       "    .dataframe thead th {\n",
       "        text-align: right;\n",
       "    }\n",
       "</style>\n",
       "<table border=\"1\" class=\"dataframe\">\n",
       "  <thead>\n",
       "    <tr style=\"text-align: right;\">\n",
       "      <th></th>\n",
       "      <th>Visit_ID</th>\n",
       "      <th>Gender</th>\n",
       "      <th>Age</th>\n",
       "      <th>Zone</th>\n",
       "      <th>Clinic</th>\n",
       "      <th>Visit_Reason</th>\n",
       "      <th>Visit_Date</th>\n",
       "      <th>Medicine_Availability</th>\n",
       "    </tr>\n",
       "  </thead>\n",
       "  <tbody>\n",
       "    <tr>\n",
       "      <th>0</th>\n",
       "      <td>VS0001</td>\n",
       "      <td>Male</td>\n",
       "      <td>63.0</td>\n",
       "      <td>NaN</td>\n",
       "      <td>Kakuma Health Center</td>\n",
       "      <td>Respiratory Infection</td>\n",
       "      <td>2025-06-27</td>\n",
       "      <td>Shortage</td>\n",
       "    </tr>\n",
       "    <tr>\n",
       "      <th>1</th>\n",
       "      <td>VS0002</td>\n",
       "      <td>Female</td>\n",
       "      <td>17.0</td>\n",
       "      <td>Kakuma 3</td>\n",
       "      <td>Kalobeyei Clinic</td>\n",
       "      <td>Respiratory Infection</td>\n",
       "      <td>2025-06-04</td>\n",
       "      <td>Shortage</td>\n",
       "    </tr>\n",
       "    <tr>\n",
       "      <th>2</th>\n",
       "      <td>VS0003</td>\n",
       "      <td>Male</td>\n",
       "      <td>33.0</td>\n",
       "      <td>NaN</td>\n",
       "      <td>Kalobeyei Clinic</td>\n",
       "      <td>Cough</td>\n",
       "      <td>2025-06-07</td>\n",
       "      <td>Available</td>\n",
       "    </tr>\n",
       "    <tr>\n",
       "      <th>3</th>\n",
       "      <td>VS0004</td>\n",
       "      <td>Male</td>\n",
       "      <td>29.0</td>\n",
       "      <td>NaN</td>\n",
       "      <td>Kalobeyei Clinic</td>\n",
       "      <td>Skin Infection</td>\n",
       "      <td>2025-06-22</td>\n",
       "      <td>Available</td>\n",
       "    </tr>\n",
       "    <tr>\n",
       "      <th>4</th>\n",
       "      <td>VS0005</td>\n",
       "      <td>Male</td>\n",
       "      <td>13.0</td>\n",
       "      <td>NaN</td>\n",
       "      <td>UNHCR Mobile Unit</td>\n",
       "      <td>Check-up</td>\n",
       "      <td>2025-06-10</td>\n",
       "      <td>Available</td>\n",
       "    </tr>\n",
       "  </tbody>\n",
       "</table>\n",
       "</div>"
      ],
      "text/plain": [
       "  Visit_ID  Gender   Age      Zone                Clinic  \\\n",
       "0   VS0001    Male  63.0       NaN  Kakuma Health Center   \n",
       "1   VS0002  Female  17.0  Kakuma 3      Kalobeyei Clinic   \n",
       "2   VS0003    Male  33.0       NaN      Kalobeyei Clinic   \n",
       "3   VS0004    Male  29.0       NaN      Kalobeyei Clinic   \n",
       "4   VS0005    Male  13.0       NaN     UNHCR Mobile Unit   \n",
       "\n",
       "            Visit_Reason  Visit_Date Medicine_Availability  \n",
       "0  Respiratory Infection  2025-06-27              Shortage  \n",
       "1  Respiratory Infection  2025-06-04              Shortage  \n",
       "2                  Cough  2025-06-07             Available  \n",
       "3         Skin Infection  2025-06-22             Available  \n",
       "4               Check-up  2025-06-10             Available  "
      ]
     },
     "execution_count": 8,
     "metadata": {},
     "output_type": "execute_result"
    }
   ],
   "source": [
    "# b) Handle missing data\n",
    "# Fill Age with median per clinic\n",
    "median_age= df['Age'].median()\n",
    "df['Age'] = df['Age'].fillna(median_age)\n",
    "\n",
    "df.head(5)"
   ]
  },
  {
   "cell_type": "code",
   "execution_count": 9,
   "id": "1de0c12a",
   "metadata": {},
   "outputs": [
    {
     "data": {
      "text/plain": [
       "0          Shortage\n",
       "1          Shortage\n",
       "2         Available\n",
       "3         Available\n",
       "4         Available\n",
       "           ...     \n",
       "995    Out of Stock\n",
       "996       Available\n",
       "997    Out of Stock\n",
       "998       Available\n",
       "999    Out of Stock\n",
       "Name: Medicine_Availability, Length: 1000, dtype: object"
      ]
     },
     "execution_count": 9,
     "metadata": {},
     "output_type": "execute_result"
    }
   ],
   "source": [
    "# Fill missing medicines with 'None'\n",
    "\n",
    "df['Medicine_Availability'] = df['Medicine_Availability'].ffill()\n",
    "\n",
    "df.Medicine_Availability"
   ]
  },
  {
   "cell_type": "code",
   "execution_count": 10,
   "id": "6c1ac040",
   "metadata": {},
   "outputs": [],
   "source": [
    "# Fill missing Visit_Reason empty values using backward fill\n",
    "df['Visit_Reason'] = df['Visit_Reason'].ffill()\n",
    "\n",
    "df['Gender'] = df['Gender'].ffill()\n",
    "\n",
    "df['Visit_Reason'] = df['Visit_Reason'].ffill()\n",
    "\n",
    "df['Visit_Date'] = df['Visit_Date'].ffill()\n",
    "\n",
    "df['Zone'] = df['Zone'].bfill()\n",
    "\n",
    "df['Clinic'] = df['Clinic'].bfill()\n"
   ]
  },
  {
   "cell_type": "code",
   "execution_count": 11,
   "id": "65608292",
   "metadata": {},
   "outputs": [
    {
     "name": "stdout",
     "output_type": "stream",
     "text": [
      "\n",
      " Missing Values After Cleaning:\n"
     ]
    },
    {
     "data": {
      "text/plain": [
       "Visit_ID                 0\n",
       "Gender                   0\n",
       "Age                      0\n",
       "Zone                     0\n",
       "Clinic                   0\n",
       "Visit_Reason             0\n",
       "Visit_Date               0\n",
       "Medicine_Availability    0\n",
       "dtype: int64"
      ]
     },
     "execution_count": 11,
     "metadata": {},
     "output_type": "execute_result"
    }
   ],
   "source": [
    "# Verify missing after cleaning\n",
    "\n",
    "print(\"\\n Missing Values After Cleaning:\")\n",
    "df.isnull().sum()"
   ]
  },
  {
   "cell_type": "markdown",
   "id": "d5f327a2",
   "metadata": {},
   "source": [
    "###### c) Standardize Visit_Date"
   ]
  },
  {
   "cell_type": "code",
   "execution_count": 12,
   "id": "f94b19be",
   "metadata": {},
   "outputs": [],
   "source": [
    "# c) Standardize Visit_Date\n",
    "\n",
    "df['Visit_Date'] = pd.to_datetime(df['Visit_Date'], errors='coerce', format='%Y-%m-%d')\n",
    "invalid_dates = df['Visit_Date'].isnull().sum()\n",
    "if invalid_dates > 0:\n",
    "    print(f\"\\n Found {invalid_dates} invalid Visit_Date entries. Dropping them.\")\n",
    "    df = df.dropna(subset=['Visit_Date'])"
   ]
  },
  {
   "cell_type": "code",
   "execution_count": 13,
   "id": "8dc3c2c9",
   "metadata": {},
   "outputs": [
    {
     "name": "stdout",
     "output_type": "stream",
     "text": [
      "\n",
      " Visit_Date type: datetime64[ns]\n"
     ]
    }
   ],
   "source": [
    "# Confirm date type\n",
    "\n",
    "print(\"\\n Visit_Date type:\", df['Visit_Date'].dtype)"
   ]
  },
  {
   "cell_type": "markdown",
   "id": "230cb284",
   "metadata": {},
   "source": [
    "###### c) Categorize illness types"
   ]
  },
  {
   "cell_type": "code",
   "execution_count": 14,
   "id": "66198a6d",
   "metadata": {},
   "outputs": [
    {
     "name": "stdout",
     "output_type": "stream",
     "text": [
      "\n",
      " Sample Clinic: ['Kakuma Health Center' 'Kalobeyei Clinic' 'Unhcr Mobile Unit']\n"
     ]
    }
   ],
   "source": [
    "# d) Clean and normalize text fields\n",
    "\n",
    "def clean_text(col):\n",
    "    return (\n",
    "        col.astype(str)\n",
    "           .str.strip()\n",
    "           .str.title()\n",
    "           .str.normalize('NFKC')\n",
    "           .str.replace(r'\\s+', ' ', regex=True)\n",
    "    )\n",
    "\n",
    "text_cols = ['Clinic', 'Visit_Reason', 'Medicine_Availability']\n",
    "for col in text_cols:\n",
    "    df[col] = clean_text(df[col])\n",
    "\n",
    "print(\"\\n Sample Clinic:\", df['Clinic'].unique()[:5])"
   ]
  },
  {
   "cell_type": "markdown",
   "id": "6f084624",
   "metadata": {},
   "source": [
    "# 2. Data Transformation"
   ]
  },
  {
   "cell_type": "markdown",
   "id": "bc30df0e",
   "metadata": {},
   "source": [
    "###### a) Temporal fields\n"
   ]
  },
  {
   "cell_type": "code",
   "execution_count": 15,
   "id": "b30f48e6",
   "metadata": {},
   "outputs": [],
   "source": [
    "# Add week, month, and day\n",
    "\n",
    "df['Week'] = df['Visit_Date'].dt.to_period('W').apply(lambda r: r.start_time)\n",
    "df['Month'] = df['Visit_Date'].dt.to_period('M').astype(str)\n",
    "df['Day'] = df['Visit_Date'].dt.date"
   ]
  },
  {
   "cell_type": "code",
   "execution_count": 16,
   "id": "1eee2993",
   "metadata": {},
   "outputs": [
    {
     "name": "stdout",
     "output_type": "stream",
     "text": [
      "\n",
      " Weekly visits sample:\n",
      "Week\n",
      "2025-05-26     21\n",
      "2025-06-02    212\n",
      "2025-06-09    225\n",
      "2025-06-16    231\n",
      "2025-06-23    233\n",
      "dtype: int64\n",
      "\n",
      " Monthly visits sample:\n",
      "Month\n",
      "2025-06    953\n",
      "2025-07     47\n",
      "dtype: int64\n"
     ]
    }
   ],
   "source": [
    "# Show weekly and monthly samples\n",
    "\n",
    "print(\"\\n Weekly visits sample:\")\n",
    "print(df.groupby('Week').size().head())\n",
    "\n",
    "print(\"\\n Monthly visits sample:\")\n",
    "print(df.groupby('Month').size().head())"
   ]
  },
  {
   "cell_type": "markdown",
   "id": "40117aac",
   "metadata": {},
   "source": [
    "###### b) Zone and Clinic grouping"
   ]
  },
  {
   "cell_type": "code",
   "execution_count": 17,
   "id": "37b768c5",
   "metadata": {},
   "outputs": [
    {
     "name": "stdout",
     "output_type": "stream",
     "text": [
      "\n",
      " Zone-Clinic Summary Sample:\n",
      "       Zone                Clinic  Total_Visits    Avg_Age\n",
      "0  Kakuma 1  Kakuma Health Center            65  37.153846\n",
      "1  Kakuma 1      Kalobeyei Clinic            49  39.591837\n",
      "2  Kakuma 1     Unhcr Mobile Unit            72  34.000000\n",
      "3  Kakuma 2  Kakuma Health Center            56  35.696429\n",
      "4  Kakuma 2      Kalobeyei Clinic            74  32.256757\n"
     ]
    }
   ],
   "source": [
    "# b) Zone and Clinic grouping\n",
    "\n",
    "zone_clinic = (\n",
    "    df.groupby(['Zone', 'Clinic'])\n",
    "      .agg(Total_Visits=('Visit_Date', 'count'), Avg_Age=('Age', 'mean'))\n",
    "      .reset_index()\n",
    ")\n",
    "print(\"\\n Zone-Clinic Summary Sample:\")\n",
    "print(zone_clinic.head())"
   ]
  },
  {
   "cell_type": "code",
   "execution_count": 18,
   "id": "ee4cf478",
   "metadata": {},
   "outputs": [
    {
     "name": "stderr",
     "output_type": "stream",
     "text": [
      "C:\\Users\\len\\AppData\\Local\\Temp\\ipykernel_2340\\1875997548.py:2: FutureWarning: Series.fillna with 'method' is deprecated and will raise in a future version. Use obj.ffill() or obj.bfill() instead.\n",
      "  zone_clinic['Zone'] = zone_clinic['Zone'].fillna(method='ffill').fillna(method='bfill')\n",
      "C:\\Users\\len\\AppData\\Local\\Temp\\ipykernel_2340\\1875997548.py:3: FutureWarning: Series.fillna with 'method' is deprecated and will raise in a future version. Use obj.ffill() or obj.bfill() instead.\n",
      "  zone_clinic['Clinic'] = zone_clinic['Clinic'].fillna(method='ffill').fillna(method='bfill')\n"
     ]
    }
   ],
   "source": [
    "# Clean Aggregated Data (zone_clinic)\n",
    "zone_clinic['Zone'] = zone_clinic['Zone'].fillna(method='ffill').fillna(method='bfill')\n",
    "zone_clinic['Clinic'] = zone_clinic['Clinic'].fillna(method='ffill').fillna(method='bfill')\n",
    "zone_clinic['Avg_Age'] = zone_clinic['Avg_Age'].round(1)\n"
   ]
  },
  {
   "cell_type": "markdown",
   "id": "353155ff",
   "metadata": {},
   "source": [
    "###### c) Categorize illness types"
   ]
  },
  {
   "cell_type": "code",
   "execution_count": 19,
   "id": "a5df437a",
   "metadata": {},
   "outputs": [
    {
     "name": "stdout",
     "output_type": "stream",
     "text": [
      "\n",
      " Illness Category Distribution:\n",
      "Illness_Category\n",
      "Other               486\n",
      "Fever/Malaria       140\n",
      "Respiratory         131\n",
      "Gastrointestinal    129\n",
      "Injury              114\n",
      "Name: count, dtype: int64\n"
     ]
    }
   ],
   "source": [
    "# c) Categorize illness types\n",
    "\n",
    "def map_illness(reason):\n",
    "    reason = reason.lower()\n",
    "    patterns = {\n",
    "        'Respiratory': r'(cough|flu|cold|breath|chest|asthma|pneumonia)',\n",
    "        'Gastrointestinal': r'(diarrhea|vomit|stomach|abdomen|typhoid)',\n",
    "        'Injury': r'(cut|wound|fracture|injury|accident)',\n",
    "        'Fever/Malaria': r'(malaria|fever|chills)',\n",
    "        'Reproductive': r'(pregnancy|antenatal|birth|labour)',\n",
    "        'Other': r'.*'\n",
    "    }\n",
    "    for category, pattern in patterns.items():\n",
    "        if re.search(pattern, reason):\n",
    "            return category\n",
    "    return 'Other'\n",
    "\n",
    "df['Illness_Category'] = df['Visit_Reason'].apply(map_illness)\n",
    "print(\"\\n Illness Category Distribution:\")\n",
    "print(df['Illness_Category'].value_counts())"
   ]
  },
  {
   "cell_type": "code",
   "execution_count": 20,
   "id": "988d1e4f",
   "metadata": {},
   "outputs": [
    {
     "name": "stdout",
     "output_type": "stream",
     "text": [
      "\n",
      " Top 10 Dispensed Medicines:\n"
     ]
    },
    {
     "data": {
      "text/html": [
       "<div>\n",
       "<style scoped>\n",
       "    .dataframe tbody tr th:only-of-type {\n",
       "        vertical-align: middle;\n",
       "    }\n",
       "\n",
       "    .dataframe tbody tr th {\n",
       "        vertical-align: top;\n",
       "    }\n",
       "\n",
       "    .dataframe thead th {\n",
       "        text-align: right;\n",
       "    }\n",
       "</style>\n",
       "<table border=\"1\" class=\"dataframe\">\n",
       "  <thead>\n",
       "    <tr style=\"text-align: right;\">\n",
       "      <th></th>\n",
       "      <th>Medicine</th>\n",
       "      <th>Times_Dispensed</th>\n",
       "    </tr>\n",
       "  </thead>\n",
       "  <tbody>\n",
       "    <tr>\n",
       "      <th>0</th>\n",
       "      <td>Out Of Stock</td>\n",
       "      <td>355</td>\n",
       "    </tr>\n",
       "    <tr>\n",
       "      <th>1</th>\n",
       "      <td>Available</td>\n",
       "      <td>325</td>\n",
       "    </tr>\n",
       "    <tr>\n",
       "      <th>2</th>\n",
       "      <td>Shortage</td>\n",
       "      <td>320</td>\n",
       "    </tr>\n",
       "  </tbody>\n",
       "</table>\n",
       "</div>"
      ],
      "text/plain": [
       "       Medicine  Times_Dispensed\n",
       "0  Out Of Stock              355\n",
       "1     Available              325\n",
       "2      Shortage              320"
      ]
     },
     "execution_count": 20,
     "metadata": {},
     "output_type": "execute_result"
    }
   ],
   "source": [
    "# d) Extract and count medicines\n",
    "\n",
    "df['Medicine_List'] = df['Medicine_Availability'].str.split(',').apply(\n",
    "    lambda lst: [m.strip().title() for m in lst if m.strip() and m.lower() != 'none']\n",
    ")\n",
    "\n",
    "med_df = df.explode('Medicine_List')\n",
    "med_df = med_df[med_df['Medicine_List'] != '']\n",
    "med_freq = med_df['Medicine_List'].value_counts().reset_index()\n",
    "med_freq.columns = ['Medicine', 'Times_Dispensed']\n",
    "print(\"\\n Top 10 Dispensed Medicines:\")\n",
    "med_freq.head(10)"
   ]
  },
  {
   "cell_type": "code",
   "execution_count": 21,
   "id": "02e23e14",
   "metadata": {},
   "outputs": [
    {
     "name": "stdout",
     "output_type": "stream",
     "text": [
      "\n",
      " Pivot Table (Zone vs Illness Category):\n"
     ]
    },
    {
     "data": {
      "text/html": [
       "<div>\n",
       "<style scoped>\n",
       "    .dataframe tbody tr th:only-of-type {\n",
       "        vertical-align: middle;\n",
       "    }\n",
       "\n",
       "    .dataframe tbody tr th {\n",
       "        vertical-align: top;\n",
       "    }\n",
       "\n",
       "    .dataframe thead th {\n",
       "        text-align: right;\n",
       "    }\n",
       "</style>\n",
       "<table border=\"1\" class=\"dataframe\">\n",
       "  <thead>\n",
       "    <tr style=\"text-align: right;\">\n",
       "      <th>Illness_Category</th>\n",
       "      <th>Fever/Malaria</th>\n",
       "      <th>Gastrointestinal</th>\n",
       "      <th>Injury</th>\n",
       "      <th>Other</th>\n",
       "      <th>Respiratory</th>\n",
       "    </tr>\n",
       "    <tr>\n",
       "      <th>Zone</th>\n",
       "      <th></th>\n",
       "      <th></th>\n",
       "      <th></th>\n",
       "      <th></th>\n",
       "      <th></th>\n",
       "    </tr>\n",
       "  </thead>\n",
       "  <tbody>\n",
       "    <tr>\n",
       "      <th>Kakuma 1</th>\n",
       "      <td>27</td>\n",
       "      <td>24</td>\n",
       "      <td>20</td>\n",
       "      <td>90</td>\n",
       "      <td>25</td>\n",
       "    </tr>\n",
       "    <tr>\n",
       "      <th>Kakuma 2</th>\n",
       "      <td>29</td>\n",
       "      <td>14</td>\n",
       "      <td>28</td>\n",
       "      <td>92</td>\n",
       "      <td>36</td>\n",
       "    </tr>\n",
       "    <tr>\n",
       "      <th>Kakuma 3</th>\n",
       "      <td>27</td>\n",
       "      <td>30</td>\n",
       "      <td>20</td>\n",
       "      <td>93</td>\n",
       "      <td>19</td>\n",
       "    </tr>\n",
       "    <tr>\n",
       "      <th>Kakuma 4</th>\n",
       "      <td>27</td>\n",
       "      <td>33</td>\n",
       "      <td>24</td>\n",
       "      <td>113</td>\n",
       "      <td>22</td>\n",
       "    </tr>\n",
       "    <tr>\n",
       "      <th>Kalobeyei</th>\n",
       "      <td>30</td>\n",
       "      <td>28</td>\n",
       "      <td>22</td>\n",
       "      <td>98</td>\n",
       "      <td>29</td>\n",
       "    </tr>\n",
       "  </tbody>\n",
       "</table>\n",
       "</div>"
      ],
      "text/plain": [
       "Illness_Category  Fever/Malaria  Gastrointestinal  Injury  Other  Respiratory\n",
       "Zone                                                                         \n",
       "Kakuma 1                     27                24      20     90           25\n",
       "Kakuma 2                     29                14      28     92           36\n",
       "Kakuma 3                     27                30      20     93           19\n",
       "Kakuma 4                     27                33      24    113           22\n",
       "Kalobeyei                    30                28      22     98           29"
      ]
     },
     "execution_count": 21,
     "metadata": {},
     "output_type": "execute_result"
    }
   ],
   "source": [
    "# e) Pivot table by illness and zone\n",
    "\n",
    "pivot = pd.pivot_table(\n",
    "    df,\n",
    "    values='Visit_Date',\n",
    "    index='Zone',\n",
    "    columns='Illness_Category',\n",
    "    aggfunc='count',\n",
    "    fill_value=0\n",
    ")\n",
    "print(\"\\n Pivot Table (Zone vs Illness Category):\")\n",
    "pivot.head()"
   ]
  },
  {
   "cell_type": "code",
   "execution_count": 22,
   "id": "290c8174",
   "metadata": {},
   "outputs": [
    {
     "data": {
      "text/html": [
       "<div>\n",
       "<style scoped>\n",
       "    .dataframe tbody tr th:only-of-type {\n",
       "        vertical-align: middle;\n",
       "    }\n",
       "\n",
       "    .dataframe tbody tr th {\n",
       "        vertical-align: top;\n",
       "    }\n",
       "\n",
       "    .dataframe thead th {\n",
       "        text-align: right;\n",
       "    }\n",
       "</style>\n",
       "<table border=\"1\" class=\"dataframe\">\n",
       "  <thead>\n",
       "    <tr style=\"text-align: right;\">\n",
       "      <th></th>\n",
       "      <th>Visit_ID</th>\n",
       "      <th>Gender</th>\n",
       "      <th>Age</th>\n",
       "      <th>Zone</th>\n",
       "      <th>Clinic</th>\n",
       "      <th>Visit_Reason</th>\n",
       "      <th>Visit_Date</th>\n",
       "      <th>Medicine_Availability</th>\n",
       "      <th>Week</th>\n",
       "      <th>Month</th>\n",
       "      <th>Day</th>\n",
       "      <th>Illness_Category</th>\n",
       "      <th>Medicine_List</th>\n",
       "    </tr>\n",
       "  </thead>\n",
       "  <tbody>\n",
       "    <tr>\n",
       "      <th>0</th>\n",
       "      <td>VS0001</td>\n",
       "      <td>Male</td>\n",
       "      <td>63.0</td>\n",
       "      <td>Kakuma 3</td>\n",
       "      <td>Kakuma Health Center</td>\n",
       "      <td>Respiratory Infection</td>\n",
       "      <td>2025-06-27</td>\n",
       "      <td>Shortage</td>\n",
       "      <td>2025-06-23</td>\n",
       "      <td>2025-06</td>\n",
       "      <td>2025-06-27</td>\n",
       "      <td>Other</td>\n",
       "      <td>[Shortage]</td>\n",
       "    </tr>\n",
       "    <tr>\n",
       "      <th>1</th>\n",
       "      <td>VS0002</td>\n",
       "      <td>Female</td>\n",
       "      <td>17.0</td>\n",
       "      <td>Kakuma 3</td>\n",
       "      <td>Kalobeyei Clinic</td>\n",
       "      <td>Respiratory Infection</td>\n",
       "      <td>2025-06-04</td>\n",
       "      <td>Shortage</td>\n",
       "      <td>2025-06-02</td>\n",
       "      <td>2025-06</td>\n",
       "      <td>2025-06-04</td>\n",
       "      <td>Other</td>\n",
       "      <td>[Shortage]</td>\n",
       "    </tr>\n",
       "    <tr>\n",
       "      <th>2</th>\n",
       "      <td>VS0003</td>\n",
       "      <td>Male</td>\n",
       "      <td>33.0</td>\n",
       "      <td>Kakuma 2</td>\n",
       "      <td>Kalobeyei Clinic</td>\n",
       "      <td>Cough</td>\n",
       "      <td>2025-06-07</td>\n",
       "      <td>Available</td>\n",
       "      <td>2025-06-02</td>\n",
       "      <td>2025-06</td>\n",
       "      <td>2025-06-07</td>\n",
       "      <td>Respiratory</td>\n",
       "      <td>[Available]</td>\n",
       "    </tr>\n",
       "    <tr>\n",
       "      <th>3</th>\n",
       "      <td>VS0004</td>\n",
       "      <td>Male</td>\n",
       "      <td>29.0</td>\n",
       "      <td>Kakuma 2</td>\n",
       "      <td>Kalobeyei Clinic</td>\n",
       "      <td>Skin Infection</td>\n",
       "      <td>2025-06-22</td>\n",
       "      <td>Available</td>\n",
       "      <td>2025-06-16</td>\n",
       "      <td>2025-06</td>\n",
       "      <td>2025-06-22</td>\n",
       "      <td>Other</td>\n",
       "      <td>[Available]</td>\n",
       "    </tr>\n",
       "    <tr>\n",
       "      <th>4</th>\n",
       "      <td>VS0005</td>\n",
       "      <td>Male</td>\n",
       "      <td>13.0</td>\n",
       "      <td>Kakuma 2</td>\n",
       "      <td>Unhcr Mobile Unit</td>\n",
       "      <td>Check-Up</td>\n",
       "      <td>2025-06-10</td>\n",
       "      <td>Available</td>\n",
       "      <td>2025-06-09</td>\n",
       "      <td>2025-06</td>\n",
       "      <td>2025-06-10</td>\n",
       "      <td>Other</td>\n",
       "      <td>[Available]</td>\n",
       "    </tr>\n",
       "  </tbody>\n",
       "</table>\n",
       "</div>"
      ],
      "text/plain": [
       "  Visit_ID  Gender   Age      Zone                Clinic  \\\n",
       "0   VS0001    Male  63.0  Kakuma 3  Kakuma Health Center   \n",
       "1   VS0002  Female  17.0  Kakuma 3      Kalobeyei Clinic   \n",
       "2   VS0003    Male  33.0  Kakuma 2      Kalobeyei Clinic   \n",
       "3   VS0004    Male  29.0  Kakuma 2      Kalobeyei Clinic   \n",
       "4   VS0005    Male  13.0  Kakuma 2     Unhcr Mobile Unit   \n",
       "\n",
       "            Visit_Reason Visit_Date Medicine_Availability       Week    Month  \\\n",
       "0  Respiratory Infection 2025-06-27              Shortage 2025-06-23  2025-06   \n",
       "1  Respiratory Infection 2025-06-04              Shortage 2025-06-02  2025-06   \n",
       "2                  Cough 2025-06-07             Available 2025-06-02  2025-06   \n",
       "3         Skin Infection 2025-06-22             Available 2025-06-16  2025-06   \n",
       "4               Check-Up 2025-06-10             Available 2025-06-09  2025-06   \n",
       "\n",
       "          Day Illness_Category Medicine_List  \n",
       "0  2025-06-27            Other    [Shortage]  \n",
       "1  2025-06-04            Other    [Shortage]  \n",
       "2  2025-06-07      Respiratory   [Available]  \n",
       "3  2025-06-22            Other   [Available]  \n",
       "4  2025-06-10            Other   [Available]  "
      ]
     },
     "execution_count": 22,
     "metadata": {},
     "output_type": "execute_result"
    }
   ],
   "source": [
    "df.head()"
   ]
  },
  {
   "cell_type": "code",
   "execution_count": 25,
   "id": "66dfe341",
   "metadata": {},
   "outputs": [],
   "source": [
    "df.to_csv('datasets/cleaned_kakuma_healthcare_visits.csv')"
   ]
  },
  {
   "cell_type": "code",
   "execution_count": null,
   "id": "e23496b9",
   "metadata": {},
   "outputs": [],
   "source": []
  }
 ],
 "metadata": {
  "kernelspec": {
   "display_name": ".venv",
   "language": "python",
   "name": "python3"
  },
  "language_info": {
   "codemirror_mode": {
    "name": "ipython",
    "version": 3
   },
   "file_extension": ".py",
   "mimetype": "text/x-python",
   "name": "python",
   "nbconvert_exporter": "python",
   "pygments_lexer": "ipython3",
   "version": "3.13.5"
  }
 },
 "nbformat": 4,
 "nbformat_minor": 5
}
